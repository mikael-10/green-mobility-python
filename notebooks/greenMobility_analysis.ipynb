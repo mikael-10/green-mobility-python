{
 "cells": [
  {
   "cell_type": "markdown",
   "id": "739f180c",
   "metadata": {},
   "source": [
    "# Green Mobility – Data Analysis\n",
    "**Autore:** Mikael Mbiada Nganou  \n",
    "**Data:** 2025-06-21  \n",
    "**Descrizione:** Analisi descrittiva del questionario sulla mobilità sostenibile in Piemonte, basata sul progetto universitario 'Green Mobility'."
   ]
  },
  {
   "cell_type": "code",
   "execution_count": null,
   "id": "b3997662",
   "metadata": {},
   "outputs": [],
   "source": [
    "import pandas as pd\n",
    "import numpy as np\n",
    "import matplotlib.pyplot as plt\n",
    "import seaborn as sns\n",
    "\n",
    "sns.set(style='whitegrid')\n",
    "%matplotlib inline"
   ]
  },
  {
   "cell_type": "markdown",
   "id": "99c63749",
   "metadata": {},
   "source": [
    "## Caricamento del Dataset"
   ]
  },
  {
   "cell_type": "code",
   "execution_count": null,
   "id": "5892bbc4",
   "metadata": {},
   "outputs": [],
   "source": [
    "# Carica il file CSV da locale\n",
    "from google.colab import files\n",
    "uploaded = files.upload()"
   ]
  },
  {
   "cell_type": "code",
   "execution_count": null,
   "id": "510e458f",
   "metadata": {},
   "outputs": [],
   "source": [
    "df = pd.read_csv('questionario_greenmobility.csv')\n",
    "df.head()"
   ]
  },
  {
   "cell_type": "markdown",
   "id": "ee680586",
   "metadata": {},
   "source": [
    "## Informazioni generali"
   ]
  },
  {
   "cell_type": "code",
   "execution_count": null,
   "id": "f2d9d3b7",
   "metadata": {},
   "outputs": [],
   "source": [
    "df.info()"
   ]
  },
  {
   "cell_type": "code",
   "execution_count": null,
   "id": "e6c413f7",
   "metadata": {},
   "outputs": [],
   "source": [
    "df.describe(include='all')"
   ]
  },
  {
   "cell_type": "markdown",
   "id": "03f4d804",
   "metadata": {},
   "source": [
    "## Statistiche Descrittive"
   ]
  },
  {
   "cell_type": "code",
   "execution_count": null,
   "id": "78a6f5bd",
   "metadata": {},
   "outputs": [],
   "source": [
    "df['Genere'].value_counts(normalize=True) * 100"
   ]
  },
  {
   "cell_type": "code",
   "execution_count": null,
   "id": "9a092e5f",
   "metadata": {},
   "outputs": [],
   "source": [
    "df['Età'].value_counts(normalize=True) * 100"
   ]
  },
  {
   "cell_type": "code",
   "execution_count": null,
   "id": "d6ae280a",
   "metadata": {},
   "outputs": [],
   "source": [
    "df['Mezzo_usato_settimanale'].value_counts(normalize=True) * 100"
   ]
  },
  {
   "cell_type": "markdown",
   "id": "f21da2a0",
   "metadata": {},
   "source": [
    "## Visualizzazione Dati – Grafici"
   ]
  },
  {
   "cell_type": "code",
   "execution_count": null,
   "id": "0e564c19",
   "metadata": {},
   "outputs": [],
   "source": [
    "plt.figure(figsize=(8,4))\n",
    "df['Genere'].value_counts().plot(kind='bar', color='skyblue')\n",
    "plt.title('Distribuzione per Genere')\n",
    "plt.ylabel('Numero di risposte')\n",
    "plt.show()"
   ]
  },
  {
   "cell_type": "code",
   "execution_count": null,
   "id": "9f3af5b2",
   "metadata": {},
   "outputs": [],
   "source": [
    "plt.figure(figsize=(8,4))\n",
    "df['Mezzo_usato_settimanale'].value_counts().plot(kind='bar', color='lightgreen')\n",
    "plt.title('Mezzo di Trasporto Usato')\n",
    "plt.ylabel('Numero di risposte')\n",
    "plt.xticks(rotation=45)\n",
    "plt.show()"
   ]
  },
  {
   "cell_type": "markdown",
   "id": "69da80e4",
   "metadata": {},
   "source": [
    "## Analisi Incrociata (Multivariata base)"
   ]
  },
  {
   "cell_type": "code",
   "execution_count": null,
   "id": "30b476f7",
   "metadata": {},
   "outputs": [],
   "source": [
    "ct = pd.crosstab(df['Genere'], df['Mezzo_usato_settimanale'])\n",
    "ct"
   ]
  },
  {
   "cell_type": "code",
   "execution_count": null,
   "id": "97188ca0",
   "metadata": {},
   "outputs": [],
   "source": [
    "plt.figure(figsize=(8,5))\n",
    "sns.heatmap(ct, annot=True, cmap='YlGnBu')\n",
    "plt.title('Heatmap: Genere vs Mezzo di Trasporto')\n",
    "plt.show()"
   ]
  }
 ],
 "metadata": {},
 "nbformat": 4,
 "nbformat_minor": 5
}
